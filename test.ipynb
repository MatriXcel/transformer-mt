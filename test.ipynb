{
 "cells": [
  {
   "cell_type": "code",
   "execution_count": 1,
   "metadata": {},
   "outputs": [],
   "source": [
    "import torch"
   ]
  },
  {
   "cell_type": "code",
   "execution_count": 3,
   "metadata": {},
   "outputs": [],
   "source": [
    "test_tensor = torch.Tensor([\n",
    "    [\n",
    "        [[2, 3, 4],\n",
    "        [4, 5, 6]],\n",
    "\n",
    "        [[1, 2, 3],\n",
    "        [4, 5, 6]]\n",
    "    ],\n",
    "    [\n",
    "        [[2, 3, 4],\n",
    "        [4, 5, 6]],\n",
    "\n",
    "        [[1, 2, 3],\n",
    "        [4, 8, 8]] \n",
    "    ]\n",
    "])"
   ]
  },
  {
   "cell_type": "code",
   "execution_count": 4,
   "metadata": {},
   "outputs": [
    {
     "data": {
      "text/plain": [
       "torch.Size([2, 2, 2, 3])"
      ]
     },
     "execution_count": 4,
     "metadata": {},
     "output_type": "execute_result"
    }
   ],
   "source": [
    "test_tensor.shape"
   ]
  },
  {
   "cell_type": "code",
   "execution_count": 11,
   "metadata": {},
   "outputs": [
    {
     "data": {
      "text/plain": [
       "tensor([[[[20., 20.,  4.],\n",
       "          [20.,  5.,  6.]],\n",
       "\n",
       "         [[20., 20.,  3.],\n",
       "          [20.,  5., 20.]]],\n",
       "\n",
       "\n",
       "        [[[20., 20.,  4.],\n",
       "          [20.,  5.,  6.]],\n",
       "\n",
       "         [[20., 20.,  3.],\n",
       "          [20.,  8.,  8.]]]])"
      ]
     },
     "execution_count": 11,
     "metadata": {},
     "output_type": "execute_result"
    }
   ],
   "source": [
    "test_tensor.masked_fill(torch.BoolTensor([[ [[1, 1, 0], [1, 0, 0]], [[1, 1, 0], [1, 0, 1]] ],  [ [[1, 1, 0], [1, 0, 0]], [[1, 1, 0], [1, 0, 0]] ]]), 20)"
   ]
  }
 ],
 "metadata": {
  "interpreter": {
   "hash": "3c878c9b994d3130a8587bef869283fae8785e1af01dd2209a6ee87991ee7ef6"
  },
  "kernelspec": {
   "display_name": "Python 3.7.11 ('NLP_class')",
   "language": "python",
   "name": "python3"
  },
  "language_info": {
   "codemirror_mode": {
    "name": "ipython",
    "version": 3
   },
   "file_extension": ".py",
   "mimetype": "text/x-python",
   "name": "python",
   "nbconvert_exporter": "python",
   "pygments_lexer": "ipython3",
   "version": "3.7.11"
  },
  "orig_nbformat": 4
 },
 "nbformat": 4,
 "nbformat_minor": 2
}
